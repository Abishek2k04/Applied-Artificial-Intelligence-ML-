{
 "cells": [
  {
   "cell_type": "code",
   "execution_count": 3,
   "id": "f2136961-08b8-46cc-805a-1d2a4419c4a6",
   "metadata": {},
   "outputs": [],
   "source": [
    "import pandas as pd\n",
    "import numpy as np\n",
    "import matplotlib.pyplot as plt\n",
    "%matplotlib inline\n",
    "from mlxtend.frequent_patterns import apriori,association_rules"
   ]
  },
  {
   "cell_type": "code",
   "execution_count": 4,
   "id": "4e1d3b1a-b21b-4b3d-9deb-895155ee0a0a",
   "metadata": {},
   "outputs": [],
   "source": [
    "ds=pd.read_csv('retail_dataset.csv')"
   ]
  },
  {
   "cell_type": "code",
   "execution_count": 5,
   "id": "9ed3d60d-82a0-4c36-a4eb-d0b639b99510",
   "metadata": {},
   "outputs": [],
   "source": [
    "items=(ds['0'].unique())"
   ]
  },
  {
   "cell_type": "code",
   "execution_count": 6,
   "id": "1c040e81-0591-4d85-b595-d71be6bfa49c",
   "metadata": {},
   "outputs": [
    {
     "data": {
      "text/plain": [
       "{'Bagel': 0,\n",
       " 'Milk': 0,\n",
       " 'Pencil': 1,\n",
       " 'Diaper': 1,\n",
       " 'Wine': 1,\n",
       " 'Cheese': 1,\n",
       " 'Meat': 1,\n",
       " 'Eggs': 1,\n",
       " 'Bread': 1}"
      ]
     },
     "execution_count": 6,
     "metadata": {},
     "output_type": "execute_result"
    }
   ],
   "source": [
    "itemset=set(items)\n",
    "encoded_values=[]\n",
    "\n",
    "for index, row in ds.iterrows():\n",
    "    rowset=set(row)\n",
    "    labels={}\n",
    "\n",
    "    uncommons=list(itemset-rowset)\n",
    "    commons=list(itemset.intersection(rowset))\n",
    "\n",
    "    for uc in uncommons:\n",
    "        labels[uc]=0\n",
    "    for com in commons:\n",
    "        labels[com]=1\n",
    "    encoded_values.append(labels)\n",
    "encoded_values[0]"
   ]
  },
  {
   "cell_type": "code",
   "execution_count": 7,
   "id": "9e17f42f-d1ba-4411-990f-f8278ecb90a3",
   "metadata": {},
   "outputs": [],
   "source": [
    "b_data=pd.DataFrame(encoded_values)"
   ]
  },
  {
   "cell_type": "code",
   "execution_count": 8,
   "id": "94489369-a75c-403f-becf-9891bff1ae37",
   "metadata": {},
   "outputs": [],
   "source": [
    "import warnings\n",
    "warnings.simplefilter('ignore')"
   ]
  },
  {
   "cell_type": "code",
   "execution_count": 9,
   "id": "4817c95b-65b0-4988-a8f1-4a1f75dea060",
   "metadata": {},
   "outputs": [
    {
     "name": "stdout",
     "output_type": "stream",
     "text": [
      "Processing 4 combinations | Sampling itemset size 4 3\n"
     ]
    }
   ],
   "source": [
    "freq_items=apriori(b_data,min_support=0.2,use_colnames=True,verbose=1)"
   ]
  },
  {
   "cell_type": "code",
   "execution_count": 10,
   "id": "07e80795-ab44-442c-b76e-d400ac6b1131",
   "metadata": {},
   "outputs": [],
   "source": [
    "rules=association_rules(freq_items,metric='confidence',min_threshold=0.6)"
   ]
  },
  {
   "cell_type": "code",
   "execution_count": 11,
   "id": "39badff6-309c-4ffb-97fc-f8f645348f8f",
   "metadata": {},
   "outputs": [
    {
     "data": {
      "text/html": [
       "<div>\n",
       "<style scoped>\n",
       "    .dataframe tbody tr th:only-of-type {\n",
       "        vertical-align: middle;\n",
       "    }\n",
       "\n",
       "    .dataframe tbody tr th {\n",
       "        vertical-align: top;\n",
       "    }\n",
       "\n",
       "    .dataframe thead th {\n",
       "        text-align: right;\n",
       "    }\n",
       "</style>\n",
       "<table border=\"1\" class=\"dataframe\">\n",
       "  <thead>\n",
       "    <tr style=\"text-align: right;\">\n",
       "      <th></th>\n",
       "      <th>antecedents</th>\n",
       "      <th>consequents</th>\n",
       "      <th>antecedent support</th>\n",
       "      <th>consequent support</th>\n",
       "      <th>support</th>\n",
       "      <th>confidence</th>\n",
       "      <th>lift</th>\n",
       "      <th>leverage</th>\n",
       "      <th>conviction</th>\n",
       "      <th>zhangs_metric</th>\n",
       "    </tr>\n",
       "  </thead>\n",
       "  <tbody>\n",
       "    <tr>\n",
       "      <th>0</th>\n",
       "      <td>(Bagel)</td>\n",
       "      <td>(Bread)</td>\n",
       "      <td>0.425397</td>\n",
       "      <td>0.504762</td>\n",
       "      <td>0.279365</td>\n",
       "      <td>0.656716</td>\n",
       "      <td>1.301042</td>\n",
       "      <td>0.064641</td>\n",
       "      <td>1.442650</td>\n",
       "      <td>0.402687</td>\n",
       "    </tr>\n",
       "    <tr>\n",
       "      <th>1</th>\n",
       "      <td>(Milk)</td>\n",
       "      <td>(Cheese)</td>\n",
       "      <td>0.501587</td>\n",
       "      <td>0.501587</td>\n",
       "      <td>0.304762</td>\n",
       "      <td>0.607595</td>\n",
       "      <td>1.211344</td>\n",
       "      <td>0.053172</td>\n",
       "      <td>1.270148</td>\n",
       "      <td>0.350053</td>\n",
       "    </tr>\n",
       "    <tr>\n",
       "      <th>2</th>\n",
       "      <td>(Cheese)</td>\n",
       "      <td>(Milk)</td>\n",
       "      <td>0.501587</td>\n",
       "      <td>0.501587</td>\n",
       "      <td>0.304762</td>\n",
       "      <td>0.607595</td>\n",
       "      <td>1.211344</td>\n",
       "      <td>0.053172</td>\n",
       "      <td>1.270148</td>\n",
       "      <td>0.350053</td>\n",
       "    </tr>\n",
       "    <tr>\n",
       "      <th>3</th>\n",
       "      <td>(Wine)</td>\n",
       "      <td>(Cheese)</td>\n",
       "      <td>0.438095</td>\n",
       "      <td>0.501587</td>\n",
       "      <td>0.269841</td>\n",
       "      <td>0.615942</td>\n",
       "      <td>1.227986</td>\n",
       "      <td>0.050098</td>\n",
       "      <td>1.297754</td>\n",
       "      <td>0.330409</td>\n",
       "    </tr>\n",
       "    <tr>\n",
       "      <th>4</th>\n",
       "      <td>(Meat)</td>\n",
       "      <td>(Cheese)</td>\n",
       "      <td>0.476190</td>\n",
       "      <td>0.501587</td>\n",
       "      <td>0.323810</td>\n",
       "      <td>0.680000</td>\n",
       "      <td>1.355696</td>\n",
       "      <td>0.084958</td>\n",
       "      <td>1.557540</td>\n",
       "      <td>0.500891</td>\n",
       "    </tr>\n",
       "    <tr>\n",
       "      <th>5</th>\n",
       "      <td>(Cheese)</td>\n",
       "      <td>(Meat)</td>\n",
       "      <td>0.501587</td>\n",
       "      <td>0.476190</td>\n",
       "      <td>0.323810</td>\n",
       "      <td>0.645570</td>\n",
       "      <td>1.355696</td>\n",
       "      <td>0.084958</td>\n",
       "      <td>1.477891</td>\n",
       "      <td>0.526414</td>\n",
       "    </tr>\n",
       "    <tr>\n",
       "      <th>6</th>\n",
       "      <td>(Eggs)</td>\n",
       "      <td>(Cheese)</td>\n",
       "      <td>0.438095</td>\n",
       "      <td>0.501587</td>\n",
       "      <td>0.298413</td>\n",
       "      <td>0.681159</td>\n",
       "      <td>1.358008</td>\n",
       "      <td>0.078670</td>\n",
       "      <td>1.563203</td>\n",
       "      <td>0.469167</td>\n",
       "    </tr>\n",
       "    <tr>\n",
       "      <th>7</th>\n",
       "      <td>(Eggs)</td>\n",
       "      <td>(Meat)</td>\n",
       "      <td>0.438095</td>\n",
       "      <td>0.476190</td>\n",
       "      <td>0.266667</td>\n",
       "      <td>0.608696</td>\n",
       "      <td>1.278261</td>\n",
       "      <td>0.058050</td>\n",
       "      <td>1.338624</td>\n",
       "      <td>0.387409</td>\n",
       "    </tr>\n",
       "    <tr>\n",
       "      <th>8</th>\n",
       "      <td>(Milk, Meat)</td>\n",
       "      <td>(Cheese)</td>\n",
       "      <td>0.244444</td>\n",
       "      <td>0.501587</td>\n",
       "      <td>0.203175</td>\n",
       "      <td>0.831169</td>\n",
       "      <td>1.657077</td>\n",
       "      <td>0.080564</td>\n",
       "      <td>2.952137</td>\n",
       "      <td>0.524816</td>\n",
       "    </tr>\n",
       "    <tr>\n",
       "      <th>9</th>\n",
       "      <td>(Cheese, Meat)</td>\n",
       "      <td>(Milk)</td>\n",
       "      <td>0.323810</td>\n",
       "      <td>0.501587</td>\n",
       "      <td>0.203175</td>\n",
       "      <td>0.627451</td>\n",
       "      <td>1.250931</td>\n",
       "      <td>0.040756</td>\n",
       "      <td>1.337845</td>\n",
       "      <td>0.296655</td>\n",
       "    </tr>\n",
       "    <tr>\n",
       "      <th>10</th>\n",
       "      <td>(Milk, Cheese)</td>\n",
       "      <td>(Meat)</td>\n",
       "      <td>0.304762</td>\n",
       "      <td>0.476190</td>\n",
       "      <td>0.203175</td>\n",
       "      <td>0.666667</td>\n",
       "      <td>1.400000</td>\n",
       "      <td>0.058050</td>\n",
       "      <td>1.571429</td>\n",
       "      <td>0.410959</td>\n",
       "    </tr>\n",
       "    <tr>\n",
       "      <th>11</th>\n",
       "      <td>(Eggs, Meat)</td>\n",
       "      <td>(Cheese)</td>\n",
       "      <td>0.266667</td>\n",
       "      <td>0.501587</td>\n",
       "      <td>0.215873</td>\n",
       "      <td>0.809524</td>\n",
       "      <td>1.613924</td>\n",
       "      <td>0.082116</td>\n",
       "      <td>2.616667</td>\n",
       "      <td>0.518717</td>\n",
       "    </tr>\n",
       "    <tr>\n",
       "      <th>12</th>\n",
       "      <td>(Cheese, Meat)</td>\n",
       "      <td>(Eggs)</td>\n",
       "      <td>0.323810</td>\n",
       "      <td>0.438095</td>\n",
       "      <td>0.215873</td>\n",
       "      <td>0.666667</td>\n",
       "      <td>1.521739</td>\n",
       "      <td>0.074014</td>\n",
       "      <td>1.685714</td>\n",
       "      <td>0.507042</td>\n",
       "    </tr>\n",
       "    <tr>\n",
       "      <th>13</th>\n",
       "      <td>(Eggs, Cheese)</td>\n",
       "      <td>(Meat)</td>\n",
       "      <td>0.298413</td>\n",
       "      <td>0.476190</td>\n",
       "      <td>0.215873</td>\n",
       "      <td>0.723404</td>\n",
       "      <td>1.519149</td>\n",
       "      <td>0.073772</td>\n",
       "      <td>1.893773</td>\n",
       "      <td>0.487091</td>\n",
       "    </tr>\n",
       "  </tbody>\n",
       "</table>\n",
       "</div>"
      ],
      "text/plain": [
       "       antecedents consequents  antecedent support  consequent support  \\\n",
       "0          (Bagel)     (Bread)            0.425397            0.504762   \n",
       "1           (Milk)    (Cheese)            0.501587            0.501587   \n",
       "2         (Cheese)      (Milk)            0.501587            0.501587   \n",
       "3           (Wine)    (Cheese)            0.438095            0.501587   \n",
       "4           (Meat)    (Cheese)            0.476190            0.501587   \n",
       "5         (Cheese)      (Meat)            0.501587            0.476190   \n",
       "6           (Eggs)    (Cheese)            0.438095            0.501587   \n",
       "7           (Eggs)      (Meat)            0.438095            0.476190   \n",
       "8     (Milk, Meat)    (Cheese)            0.244444            0.501587   \n",
       "9   (Cheese, Meat)      (Milk)            0.323810            0.501587   \n",
       "10  (Milk, Cheese)      (Meat)            0.304762            0.476190   \n",
       "11    (Eggs, Meat)    (Cheese)            0.266667            0.501587   \n",
       "12  (Cheese, Meat)      (Eggs)            0.323810            0.438095   \n",
       "13  (Eggs, Cheese)      (Meat)            0.298413            0.476190   \n",
       "\n",
       "     support  confidence      lift  leverage  conviction  zhangs_metric  \n",
       "0   0.279365    0.656716  1.301042  0.064641    1.442650       0.402687  \n",
       "1   0.304762    0.607595  1.211344  0.053172    1.270148       0.350053  \n",
       "2   0.304762    0.607595  1.211344  0.053172    1.270148       0.350053  \n",
       "3   0.269841    0.615942  1.227986  0.050098    1.297754       0.330409  \n",
       "4   0.323810    0.680000  1.355696  0.084958    1.557540       0.500891  \n",
       "5   0.323810    0.645570  1.355696  0.084958    1.477891       0.526414  \n",
       "6   0.298413    0.681159  1.358008  0.078670    1.563203       0.469167  \n",
       "7   0.266667    0.608696  1.278261  0.058050    1.338624       0.387409  \n",
       "8   0.203175    0.831169  1.657077  0.080564    2.952137       0.524816  \n",
       "9   0.203175    0.627451  1.250931  0.040756    1.337845       0.296655  \n",
       "10  0.203175    0.666667  1.400000  0.058050    1.571429       0.410959  \n",
       "11  0.215873    0.809524  1.613924  0.082116    2.616667       0.518717  \n",
       "12  0.215873    0.666667  1.521739  0.074014    1.685714       0.507042  \n",
       "13  0.215873    0.723404  1.519149  0.073772    1.893773       0.487091  "
      ]
     },
     "execution_count": 11,
     "metadata": {},
     "output_type": "execute_result"
    }
   ],
   "source": [
    "rules"
   ]
  },
  {
   "cell_type": "code",
   "execution_count": 18,
   "id": "d2d2db10-42d8-46be-8ca9-80a2238b4d71",
   "metadata": {},
   "outputs": [
    {
     "name": "stdout",
     "output_type": "stream",
     "text": [
      "Rules frozenset({'Bagel'}) ---> frozenset({'Bread'})\n",
      "Support 0.27936507936507937\n",
      "confidence: 0.6567164179104478\n",
      "********************************************************\n",
      "Rules frozenset({'Milk'}) ---> frozenset({'Cheese'})\n",
      "Support 0.3047619047619048\n",
      "confidence: 0.6075949367088608\n",
      "********************************************************\n",
      "Rules frozenset({'Cheese'}) ---> frozenset({'Milk'})\n",
      "Support 0.3047619047619048\n",
      "confidence: 0.6075949367088608\n",
      "********************************************************\n",
      "Rules frozenset({'Wine'}) ---> frozenset({'Cheese'})\n",
      "Support 0.2698412698412698\n",
      "confidence: 0.6159420289855072\n",
      "********************************************************\n",
      "Rules frozenset({'Meat'}) ---> frozenset({'Cheese'})\n",
      "Support 0.3238095238095238\n",
      "confidence: 0.68\n",
      "********************************************************\n",
      "Rules frozenset({'Cheese'}) ---> frozenset({'Meat'})\n",
      "Support 0.3238095238095238\n",
      "confidence: 0.6455696202531646\n",
      "********************************************************\n",
      "Rules frozenset({'Eggs'}) ---> frozenset({'Cheese'})\n",
      "Support 0.2984126984126984\n",
      "confidence: 0.6811594202898551\n",
      "********************************************************\n",
      "Rules frozenset({'Eggs'}) ---> frozenset({'Meat'})\n",
      "Support 0.26666666666666666\n",
      "confidence: 0.6086956521739131\n",
      "********************************************************\n",
      "Rules frozenset({'Milk', 'Meat'}) ---> frozenset({'Cheese'})\n",
      "Support 0.20317460317460317\n",
      "confidence: 0.8311688311688312\n",
      "********************************************************\n",
      "Rules frozenset({'Cheese', 'Meat'}) ---> frozenset({'Milk'})\n",
      "Support 0.20317460317460317\n",
      "confidence: 0.6274509803921569\n",
      "********************************************************\n",
      "Rules frozenset({'Milk', 'Cheese'}) ---> frozenset({'Meat'})\n",
      "Support 0.20317460317460317\n",
      "confidence: 0.6666666666666666\n",
      "********************************************************\n",
      "Rules frozenset({'Eggs', 'Meat'}) ---> frozenset({'Cheese'})\n",
      "Support 0.21587301587301588\n",
      "confidence: 0.8095238095238095\n",
      "********************************************************\n",
      "Rules frozenset({'Cheese', 'Meat'}) ---> frozenset({'Eggs'})\n",
      "Support 0.21587301587301588\n",
      "confidence: 0.6666666666666666\n",
      "********************************************************\n",
      "Rules frozenset({'Eggs', 'Cheese'}) ---> frozenset({'Meat'})\n",
      "Support 0.21587301587301588\n",
      "confidence: 0.723404255319149\n",
      "********************************************************\n"
     ]
    }
   ],
   "source": [
    "for i in range(14):\n",
    "    print('Rules',rules.antecedents[i],'--->',rules.consequents[i])\n",
    "    print('Support',rules.support[i])\n",
    "    print(\"confidence:\",rules.confidence[i])\n",
    "    print('********************************************************')"
   ]
  },
  {
   "cell_type": "code",
   "execution_count": 19,
   "id": "ff04a8be-a9ab-481d-8ed7-3fa14665c2c3",
   "metadata": {},
   "outputs": [
    {
     "data": {
      "image/png": "[encoded data removed]",
      "text/plain": [
       "<Figure size 640x480 with 1 Axes>"
      ]
     },
     "metadata": {},
     "output_type": "display_data"
    }
   ],
   "source": [
    "plt.scatter(rules['support'],rules['confidence'],alpha=0.5)\n",
    "plt.xlabel('support')\n",
    "plt.ylabel('confidence')\n",
    "plt.title('support vs confidence')\n",
    "plt.show()"
   ]
  },
  {
   "cell_type": "code",
   "execution_count": 20,
   "id": "e843e020-16a2-4041-b6e3-ab572f17c3bb",
   "metadata": {},
   "outputs": [
    {
     "data": {
      "image/png": "[encoded data removed]",
      "text/plain": [
       "<Figure size 640x480 with 1 Axes>"
      ]
     },
     "metadata": {},
     "output_type": "display_data"
    }
   ],
   "source": [
    "plt.scatter(rules['support'],rules['lift'],alpha=0.5)\n",
    "plt.xlabel('support')\n",
    "plt.ylabel('lift')\n",
    "plt.title('support vs lift')\n",
    "plt.show()"
   ]
  },
  {
   "cell_type": "code",
   "execution_count": 22,
   "id": "7e84cfe3-9b9c-485b-9773-14e3202788f2",
   "metadata": {},
   "outputs": [
    {
     "data": {
      "image/png": "[encoded data removed]",
      "text/plain": [
       "<Figure size 640x480 with 1 Axes>"
      ]
     },
     "metadata": {},
     "output_type": "display_data"
    }
   ],
   "source": [
    "fit=np.polyfit(rules['confidence'],rules['lift'],1)\n",
    "fir_fn=np.poly1d(fit)\n",
    "plt.plot(rules['lift'],rules['confidence'],'yo',label='datapoint')\n",
    "plt.show()"
   ]
  },
  {
   "cell_type": "code",
   "execution_count": null,
   "id": "b28ffda2-79a8-4466-9930-f3eeb3a1476c",
   "metadata": {},
   "outputs": [],
   "source": []
  }
 ],
 "metadata": {
  "kernelspec": {
   "display_name": "Python 3 (ipykernel)",
   "language": "python",
   "name": "python3"
  },
  "language_info": {
   "codemirror_mode": {
    "name": "ipython",
    "version": 3
   },
   "file_extension": ".py",
   "mimetype": "text/x-python",
   "name": "python",
   "nbconvert_exporter": "python",
   "pygments_lexer": "ipython3",
   "version": "3.12.4"
  }
 },
 "nbformat": 4,
 "nbformat_minor": 5
}
