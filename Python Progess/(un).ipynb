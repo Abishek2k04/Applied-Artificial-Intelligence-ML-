{
 "cells": [
  {
   "cell_type": "code",
   "execution_count": 2,
   "id": "cfc93579-a03a-4247-8f71-3d80e0305600",
   "metadata": {},
   "outputs": [],
   "source": [
    "import warnings\n",
    "warnings.simplefilter('ignore')"
   ]
  },
  {
   "cell_type": "markdown",
   "id": "a271f52b-e3c2-4db8-9ea8-65911234c3a7",
   "metadata": {},
   "source": [
    "## Import pandas libraries and  numpy"
   ]
  },
  {
   "cell_type": "code",
   "execution_count": 3,
   "id": "2fced983-a322-4e58-961b-49614df7e4ca",
   "metadata": {},
   "outputs": [],
   "source": [
    "import numpy as np\n",
    "import pandas as pd"
   ]
  },
  {
   "cell_type": "markdown",
   "id": "5052027e-8a48-46b7-b23e-5f1ef7846cc7",
   "metadata": {},
   "source": [
    "### Data visualization library"
   ]
  },
  {
   "cell_type": "code",
   "execution_count": 4,
   "id": "3e1acb8c-d81b-4e83-bcb4-e55c2837db81",
   "metadata": {},
   "outputs": [],
   "source": [
    "import matplotlib.pyplot as plt\n",
    "%matplotlib inline\n",
    "import seaborn as sns"
   ]
  },
  {
   "cell_type": "markdown",
   "id": "3ebda2a2-88b6-4abe-9041-bcbee7a82340",
   "metadata": {},
   "source": [
    "### Import dataset"
   ]
  },
  {
   "cell_type": "code",
   "execution_count": 5,
   "id": "52a278f8-7e4a-439b-8bd8-911719e6eef8",
   "metadata": {},
   "outputs": [],
   "source": [
    "dataset =pd.read_excel('C:/Users/abishek/Documents/Abishek_DATA SCIENCE/Dataset/student_dataset.xlsx')"
   ]
  },
  {
   "cell_type": "code",
   "execution_count": 6,
   "id": "2fdd4691-970c-470b-a205-14b9af4a9095",
   "metadata": {},
   "outputs": [
    {
     "data": {
      "text/html": [
       "<div>\n",
       "<style scoped>\n",
       "    .dataframe tbody tr th:only-of-type {\n",
       "        vertical-align: middle;\n",
       "    }\n",
       "\n",
       "    .dataframe tbody tr th {\n",
       "        vertical-align: top;\n",
       "    }\n",
       "\n",
       "    .dataframe thead th {\n",
       "        text-align: right;\n",
       "    }\n",
       "</style>\n",
       "<table border=\"1\" class=\"dataframe\">\n",
       "  <thead>\n",
       "    <tr style=\"text-align: right;\">\n",
       "      <th></th>\n",
       "      <th>S.NO</th>\n",
       "      <th>ATTN</th>\n",
       "      <th>THEORY</th>\n",
       "      <th>Daily assn</th>\n",
       "      <th>TOTAL</th>\n",
       "      <th>certificate</th>\n",
       "    </tr>\n",
       "  </thead>\n",
       "  <tbody>\n",
       "    <tr>\n",
       "      <th>0</th>\n",
       "      <td>1</td>\n",
       "      <td>20</td>\n",
       "      <td>38</td>\n",
       "      <td>25</td>\n",
       "      <td>83</td>\n",
       "      <td>DISTINCTION</td>\n",
       "    </tr>\n",
       "    <tr>\n",
       "      <th>1</th>\n",
       "      <td>2</td>\n",
       "      <td>15</td>\n",
       "      <td>25</td>\n",
       "      <td>0</td>\n",
       "      <td>40</td>\n",
       "      <td>COMPLETION</td>\n",
       "    </tr>\n",
       "    <tr>\n",
       "      <th>2</th>\n",
       "      <td>3</td>\n",
       "      <td>20</td>\n",
       "      <td>31</td>\n",
       "      <td>25</td>\n",
       "      <td>76</td>\n",
       "      <td>FIRST CLASS</td>\n",
       "    </tr>\n",
       "    <tr>\n",
       "      <th>3</th>\n",
       "      <td>4</td>\n",
       "      <td>20</td>\n",
       "      <td>25</td>\n",
       "      <td>25</td>\n",
       "      <td>70</td>\n",
       "      <td>FIRST CLASS</td>\n",
       "    </tr>\n",
       "    <tr>\n",
       "      <th>4</th>\n",
       "      <td>5</td>\n",
       "      <td>20</td>\n",
       "      <td>17</td>\n",
       "      <td>15</td>\n",
       "      <td>52</td>\n",
       "      <td>FIRST CLASS</td>\n",
       "    </tr>\n",
       "  </tbody>\n",
       "</table>\n",
       "</div>"
      ],
      "text/plain": [
       "   S.NO  ATTN  THEORY  Daily assn  TOTAL  certificate\n",
       "0     1    20      38          25     83  DISTINCTION\n",
       "1     2    15      25           0     40   COMPLETION\n",
       "2     3    20      31          25     76  FIRST CLASS\n",
       "3     4    20      25          25     70  FIRST CLASS\n",
       "4     5    20      17          15     52  FIRST CLASS"
      ]
     },
     "execution_count": 6,
     "metadata": {},
     "output_type": "execute_result"
    }
   ],
   "source": [
    "dataset.head()"
   ]
  },
  {
   "cell_type": "markdown",
   "id": "f7d24d2a-6f06-43b2-b38f-eba4dabe933e",
   "metadata": {},
   "source": [
    "## dataset shape"
   ]
  },
  {
   "cell_type": "code",
   "execution_count": 7,
   "id": "3120ccbe-e658-43be-ae49-dc9bfd7ef480",
   "metadata": {},
   "outputs": [
    {
     "data": {
      "text/plain": [
       "(367, 6)"
      ]
     },
     "execution_count": 7,
     "metadata": {},
     "output_type": "execute_result"
    }
   ],
   "source": [
    "dataset.shape"
   ]
  },
  {
   "cell_type": "code",
   "execution_count": 8,
   "id": "62e289ef-c37c-49c6-907d-e2e29cf8df6c",
   "metadata": {},
   "outputs": [
    {
     "name": "stdout",
     "output_type": "stream",
     "text": [
      "<class 'pandas.core.frame.DataFrame'>\n",
      "RangeIndex: 367 entries, 0 to 366\n",
      "Data columns (total 6 columns):\n",
      " #   Column       Non-Null Count  Dtype \n",
      "---  ------       --------------  ----- \n",
      " 0   S.NO         367 non-null    int64 \n",
      " 1   ATTN         367 non-null    int64 \n",
      " 2   THEORY       367 non-null    int64 \n",
      " 3   Daily assn   367 non-null    int64 \n",
      " 4   TOTAL        367 non-null    int64 \n",
      " 5   certificate  367 non-null    object\n",
      "dtypes: int64(5), object(1)\n",
      "memory usage: 17.3+ KB\n"
     ]
    }
   ],
   "source": [
    "dataset.info()"
   ]
  },
  {
   "cell_type": "code",
   "execution_count": 9,
   "id": "ce6cee00-2aee-415a-af3f-5230c101b707",
   "metadata": {},
   "outputs": [
    {
     "data": {
      "text/plain": [
       "S.NO           0\n",
       "ATTN           0\n",
       "THEORY         0\n",
       "Daily assn     0\n",
       "TOTAL          0\n",
       "certificate    0\n",
       "dtype: int64"
      ]
     },
     "execution_count": 9,
     "metadata": {},
     "output_type": "execute_result"
    }
   ],
   "source": [
    "dataset.isnull().sum()"
   ]
  },
  {
   "cell_type": "code",
   "execution_count": 10,
   "id": "2fd5679c-36bb-4619-8741-f6a0bd0fa457",
   "metadata": {},
   "outputs": [
    {
     "data": {
      "text/html": [
       "<div>\n",
       "<style scoped>\n",
       "    .dataframe tbody tr th:only-of-type {\n",
       "        vertical-align: middle;\n",
       "    }\n",
       "\n",
       "    .dataframe tbody tr th {\n",
       "        vertical-align: top;\n",
       "    }\n",
       "\n",
       "    .dataframe thead th {\n",
       "        text-align: right;\n",
       "    }\n",
       "</style>\n",
       "<table border=\"1\" class=\"dataframe\">\n",
       "  <thead>\n",
       "    <tr style=\"text-align: right;\">\n",
       "      <th></th>\n",
       "      <th>S.NO</th>\n",
       "      <th>ATTN</th>\n",
       "      <th>THEORY</th>\n",
       "      <th>Daily assn</th>\n",
       "      <th>TOTAL</th>\n",
       "    </tr>\n",
       "  </thead>\n",
       "  <tbody>\n",
       "    <tr>\n",
       "      <th>count</th>\n",
       "      <td>367.000000</td>\n",
       "      <td>367.000000</td>\n",
       "      <td>367.000000</td>\n",
       "      <td>367.000000</td>\n",
       "      <td>367.000000</td>\n",
       "    </tr>\n",
       "    <tr>\n",
       "      <th>mean</th>\n",
       "      <td>184.000000</td>\n",
       "      <td>18.926431</td>\n",
       "      <td>12.495913</td>\n",
       "      <td>13.405995</td>\n",
       "      <td>41.231608</td>\n",
       "    </tr>\n",
       "    <tr>\n",
       "      <th>std</th>\n",
       "      <td>106.088014</td>\n",
       "      <td>3.607450</td>\n",
       "      <td>12.815605</td>\n",
       "      <td>9.770943</td>\n",
       "      <td>21.568883</td>\n",
       "    </tr>\n",
       "    <tr>\n",
       "      <th>min</th>\n",
       "      <td>1.000000</td>\n",
       "      <td>1.000000</td>\n",
       "      <td>0.000000</td>\n",
       "      <td>0.000000</td>\n",
       "      <td>0.000000</td>\n",
       "    </tr>\n",
       "    <tr>\n",
       "      <th>25%</th>\n",
       "      <td>92.500000</td>\n",
       "      <td>15.000000</td>\n",
       "      <td>0.000000</td>\n",
       "      <td>0.000000</td>\n",
       "      <td>25.000000</td>\n",
       "    </tr>\n",
       "    <tr>\n",
       "      <th>50%</th>\n",
       "      <td>184.000000</td>\n",
       "      <td>20.000000</td>\n",
       "      <td>12.000000</td>\n",
       "      <td>15.000000</td>\n",
       "      <td>40.000000</td>\n",
       "    </tr>\n",
       "    <tr>\n",
       "      <th>75%</th>\n",
       "      <td>275.500000</td>\n",
       "      <td>20.000000</td>\n",
       "      <td>24.000000</td>\n",
       "      <td>25.000000</td>\n",
       "      <td>57.500000</td>\n",
       "    </tr>\n",
       "    <tr>\n",
       "      <th>max</th>\n",
       "      <td>367.000000</td>\n",
       "      <td>25.000000</td>\n",
       "      <td>42.000000</td>\n",
       "      <td>25.000000</td>\n",
       "      <td>87.000000</td>\n",
       "    </tr>\n",
       "  </tbody>\n",
       "</table>\n",
       "</div>"
      ],
      "text/plain": [
       "             S.NO        ATTN      THEORY  Daily assn       TOTAL\n",
       "count  367.000000  367.000000  367.000000  367.000000  367.000000\n",
       "mean   184.000000   18.926431   12.495913   13.405995   41.231608\n",
       "std    106.088014    3.607450   12.815605    9.770943   21.568883\n",
       "min      1.000000    1.000000    0.000000    0.000000    0.000000\n",
       "25%     92.500000   15.000000    0.000000    0.000000   25.000000\n",
       "50%    184.000000   20.000000   12.000000   15.000000   40.000000\n",
       "75%    275.500000   20.000000   24.000000   25.000000   57.500000\n",
       "max    367.000000   25.000000   42.000000   25.000000   87.000000"
      ]
     },
     "execution_count": 10,
     "metadata": {},
     "output_type": "execute_result"
    }
   ],
   "source": [
    "dataset.describe()"
   ]
  },
  {
   "cell_type": "code",
   "execution_count": 11,
   "id": "3eaaffc9-2984-4b51-9317-009e5a93c46a",
   "metadata": {},
   "outputs": [
    {
     "name": "stdout",
     "output_type": "stream",
     "text": [
      "<class 'pandas.core.frame.DataFrame'>\n",
      "RangeIndex: 367 entries, 0 to 366\n",
      "Data columns (total 6 columns):\n",
      " #   Column       Non-Null Count  Dtype \n",
      "---  ------       --------------  ----- \n",
      " 0   S.NO         367 non-null    int64 \n",
      " 1   ATTN         367 non-null    int64 \n",
      " 2   THEORY       367 non-null    int64 \n",
      " 3   Daily assn   367 non-null    int64 \n",
      " 4   TOTAL        367 non-null    int64 \n",
      " 5   certificate  367 non-null    object\n",
      "dtypes: int64(5), object(1)\n",
      "memory usage: 17.3+ KB\n"
     ]
    }
   ],
   "source": [
    "dataset.info()"
   ]
  },
  {
   "cell_type": "code",
   "execution_count": 12,
   "id": "3b534a4f-bd3c-472b-8de2-436d178a3d6e",
   "metadata": {},
   "outputs": [],
   "source": [
    "data=dataset.drop(['S.NO','TOTAL'],axis=1)"
   ]
  },
  {
   "cell_type": "code",
   "execution_count": 13,
   "id": "1525b352-5d77-47e6-8a38-6ae0e44f4cc0",
   "metadata": {},
   "outputs": [
    {
     "data": {
      "text/html": [
       "<div>\n",
       "<style scoped>\n",
       "    .dataframe tbody tr th:only-of-type {\n",
       "        vertical-align: middle;\n",
       "    }\n",
       "\n",
       "    .dataframe tbody tr th {\n",
       "        vertical-align: top;\n",
       "    }\n",
       "\n",
       "    .dataframe thead th {\n",
       "        text-align: right;\n",
       "    }\n",
       "</style>\n",
       "<table border=\"1\" class=\"dataframe\">\n",
       "  <thead>\n",
       "    <tr style=\"text-align: right;\">\n",
       "      <th></th>\n",
       "      <th>ATTN</th>\n",
       "      <th>THEORY</th>\n",
       "      <th>Daily assn</th>\n",
       "      <th>certificate</th>\n",
       "    </tr>\n",
       "  </thead>\n",
       "  <tbody>\n",
       "    <tr>\n",
       "      <th>0</th>\n",
       "      <td>20</td>\n",
       "      <td>38</td>\n",
       "      <td>25</td>\n",
       "      <td>DISTINCTION</td>\n",
       "    </tr>\n",
       "    <tr>\n",
       "      <th>1</th>\n",
       "      <td>15</td>\n",
       "      <td>25</td>\n",
       "      <td>0</td>\n",
       "      <td>COMPLETION</td>\n",
       "    </tr>\n",
       "    <tr>\n",
       "      <th>2</th>\n",
       "      <td>20</td>\n",
       "      <td>31</td>\n",
       "      <td>25</td>\n",
       "      <td>FIRST CLASS</td>\n",
       "    </tr>\n",
       "    <tr>\n",
       "      <th>3</th>\n",
       "      <td>20</td>\n",
       "      <td>25</td>\n",
       "      <td>25</td>\n",
       "      <td>FIRST CLASS</td>\n",
       "    </tr>\n",
       "    <tr>\n",
       "      <th>4</th>\n",
       "      <td>20</td>\n",
       "      <td>17</td>\n",
       "      <td>15</td>\n",
       "      <td>FIRST CLASS</td>\n",
       "    </tr>\n",
       "    <tr>\n",
       "      <th>...</th>\n",
       "      <td>...</td>\n",
       "      <td>...</td>\n",
       "      <td>...</td>\n",
       "      <td>...</td>\n",
       "    </tr>\n",
       "    <tr>\n",
       "      <th>362</th>\n",
       "      <td>15</td>\n",
       "      <td>0</td>\n",
       "      <td>10</td>\n",
       "      <td>PARTICIPATION</td>\n",
       "    </tr>\n",
       "    <tr>\n",
       "      <th>363</th>\n",
       "      <td>20</td>\n",
       "      <td>9</td>\n",
       "      <td>25</td>\n",
       "      <td>COMPLETION</td>\n",
       "    </tr>\n",
       "    <tr>\n",
       "      <th>364</th>\n",
       "      <td>15</td>\n",
       "      <td>20</td>\n",
       "      <td>25</td>\n",
       "      <td>FIRST CLASS</td>\n",
       "    </tr>\n",
       "    <tr>\n",
       "      <th>365</th>\n",
       "      <td>15</td>\n",
       "      <td>0</td>\n",
       "      <td>10</td>\n",
       "      <td>PARTICIPATION</td>\n",
       "    </tr>\n",
       "    <tr>\n",
       "      <th>366</th>\n",
       "      <td>20</td>\n",
       "      <td>23</td>\n",
       "      <td>10</td>\n",
       "      <td>COMPLETION</td>\n",
       "    </tr>\n",
       "  </tbody>\n",
       "</table>\n",
       "<p>367 rows × 4 columns</p>\n",
       "</div>"
      ],
      "text/plain": [
       "     ATTN  THEORY  Daily assn    certificate\n",
       "0      20      38          25    DISTINCTION\n",
       "1      15      25           0     COMPLETION\n",
       "2      20      31          25    FIRST CLASS\n",
       "3      20      25          25    FIRST CLASS\n",
       "4      20      17          15    FIRST CLASS\n",
       "..    ...     ...         ...            ...\n",
       "362    15       0          10  PARTICIPATION\n",
       "363    20       9          25     COMPLETION\n",
       "364    15      20          25    FIRST CLASS\n",
       "365    15       0          10  PARTICIPATION\n",
       "366    20      23          10     COMPLETION\n",
       "\n",
       "[367 rows x 4 columns]"
      ]
     },
     "execution_count": 13,
     "metadata": {},
     "output_type": "execute_result"
    }
   ],
   "source": [
    "data"
   ]
  },
  {
   "cell_type": "markdown",
   "id": "3bdac0f5-707a-4440-a6da-cf118de4ec1c",
   "metadata": {},
   "source": [
    "## get unique value\n"
   ]
  },
  {
   "cell_type": "code",
   "execution_count": 14,
   "id": "fc562725-9d12-4819-bb0a-6c1cbdbc4de6",
   "metadata": {},
   "outputs": [
    {
     "data": {
      "text/plain": [
       "array(['DISTINCTION', 'COMPLETION', 'FIRST CLASS', 'PARTICIPATION'],\n",
       "      dtype=object)"
      ]
     },
     "execution_count": 14,
     "metadata": {},
     "output_type": "execute_result"
    }
   ],
   "source": [
    "data['certificate'].unique()"
   ]
  },
  {
   "cell_type": "markdown",
   "id": "b5db8404-4c14-4530-8c90-bbac4085b01e",
   "metadata": {},
   "source": [
    "### groupby function used to group the typpe of certificate and size is total number is printed"
   ]
  },
  {
   "cell_type": "code",
   "execution_count": 15,
   "id": "23465945-1446-4ca0-8a44-e0402d035021",
   "metadata": {},
   "outputs": [
    {
     "data": {
      "text/plain": [
       "certificate\n",
       "COMPLETION       117\n",
       "DISTINCTION       32\n",
       "FIRST CLASS       66\n",
       "PARTICIPATION    152\n",
       "dtype: int64"
      ]
     },
     "execution_count": 15,
     "metadata": {},
     "output_type": "execute_result"
    }
   ],
   "source": [
    "data.groupby('certificate').size()"
   ]
  },
  {
   "cell_type": "markdown",
   "id": "23787fc0-a7d7-421d-931c-4d1033dd7369",
   "metadata": {},
   "source": [
    "### Encoding the data"
   ]
  },
  {
   "cell_type": "code",
   "execution_count": 16,
   "id": "7e0b5fe3-f487-46fe-9bd9-25c3a480d206",
   "metadata": {},
   "outputs": [],
   "source": [
    "from sklearn.preprocessing import LabelEncoder"
   ]
  },
  {
   "cell_type": "code",
   "execution_count": 17,
   "id": "3c87e076-4f9d-4aee-b3e6-23907e79f2aa",
   "metadata": {},
   "outputs": [],
   "source": [
    "data.iloc[:,3] = LabelEncoder().fit_transform(data.iloc[:,3])"
   ]
  },
  {
   "cell_type": "code",
   "execution_count": 18,
   "id": "c5e3ef23-247e-4750-936d-37a6a7bf9009",
   "metadata": {},
   "outputs": [
    {
     "data": {
      "text/html": [
       "<div>\n",
       "<style scoped>\n",
       "    .dataframe tbody tr th:only-of-type {\n",
       "        vertical-align: middle;\n",
       "    }\n",
       "\n",
       "    .dataframe tbody tr th {\n",
       "        vertical-align: top;\n",
       "    }\n",
       "\n",
       "    .dataframe thead th {\n",
       "        text-align: right;\n",
       "    }\n",
       "</style>\n",
       "<table border=\"1\" class=\"dataframe\">\n",
       "  <thead>\n",
       "    <tr style=\"text-align: right;\">\n",
       "      <th></th>\n",
       "      <th>ATTN</th>\n",
       "      <th>THEORY</th>\n",
       "      <th>Daily assn</th>\n",
       "      <th>certificate</th>\n",
       "    </tr>\n",
       "  </thead>\n",
       "  <tbody>\n",
       "    <tr>\n",
       "      <th>0</th>\n",
       "      <td>20</td>\n",
       "      <td>38</td>\n",
       "      <td>25</td>\n",
       "      <td>1</td>\n",
       "    </tr>\n",
       "    <tr>\n",
       "      <th>1</th>\n",
       "      <td>15</td>\n",
       "      <td>25</td>\n",
       "      <td>0</td>\n",
       "      <td>0</td>\n",
       "    </tr>\n",
       "    <tr>\n",
       "      <th>2</th>\n",
       "      <td>20</td>\n",
       "      <td>31</td>\n",
       "      <td>25</td>\n",
       "      <td>2</td>\n",
       "    </tr>\n",
       "    <tr>\n",
       "      <th>3</th>\n",
       "      <td>20</td>\n",
       "      <td>25</td>\n",
       "      <td>25</td>\n",
       "      <td>2</td>\n",
       "    </tr>\n",
       "    <tr>\n",
       "      <th>4</th>\n",
       "      <td>20</td>\n",
       "      <td>17</td>\n",
       "      <td>15</td>\n",
       "      <td>2</td>\n",
       "    </tr>\n",
       "    <tr>\n",
       "      <th>...</th>\n",
       "      <td>...</td>\n",
       "      <td>...</td>\n",
       "      <td>...</td>\n",
       "      <td>...</td>\n",
       "    </tr>\n",
       "    <tr>\n",
       "      <th>362</th>\n",
       "      <td>15</td>\n",
       "      <td>0</td>\n",
       "      <td>10</td>\n",
       "      <td>3</td>\n",
       "    </tr>\n",
       "    <tr>\n",
       "      <th>363</th>\n",
       "      <td>20</td>\n",
       "      <td>9</td>\n",
       "      <td>25</td>\n",
       "      <td>0</td>\n",
       "    </tr>\n",
       "    <tr>\n",
       "      <th>364</th>\n",
       "      <td>15</td>\n",
       "      <td>20</td>\n",
       "      <td>25</td>\n",
       "      <td>2</td>\n",
       "    </tr>\n",
       "    <tr>\n",
       "      <th>365</th>\n",
       "      <td>15</td>\n",
       "      <td>0</td>\n",
       "      <td>10</td>\n",
       "      <td>3</td>\n",
       "    </tr>\n",
       "    <tr>\n",
       "      <th>366</th>\n",
       "      <td>20</td>\n",
       "      <td>23</td>\n",
       "      <td>10</td>\n",
       "      <td>0</td>\n",
       "    </tr>\n",
       "  </tbody>\n",
       "</table>\n",
       "<p>367 rows × 4 columns</p>\n",
       "</div>"
      ],
      "text/plain": [
       "     ATTN  THEORY  Daily assn certificate\n",
       "0      20      38          25           1\n",
       "1      15      25           0           0\n",
       "2      20      31          25           2\n",
       "3      20      25          25           2\n",
       "4      20      17          15           2\n",
       "..    ...     ...         ...         ...\n",
       "362    15       0          10           3\n",
       "363    20       9          25           0\n",
       "364    15      20          25           2\n",
       "365    15       0          10           3\n",
       "366    20      23          10           0\n",
       "\n",
       "[367 rows x 4 columns]"
      ]
     },
     "execution_count": 18,
     "metadata": {},
     "output_type": "execute_result"
    }
   ],
   "source": [
    "data"
   ]
  },
  {
   "cell_type": "code",
   "execution_count": 19,
   "id": "bfdbf345-9c26-414e-b881-eff290eb7736",
   "metadata": {},
   "outputs": [],
   "source": [
    "x = data.iloc[:,:-1].values"
   ]
  },
  {
   "cell_type": "code",
   "execution_count": 20,
   "id": "6d4768fd-0029-4f31-9503-fe2053bcbfb5",
   "metadata": {},
   "outputs": [
    {
     "data": {
      "text/plain": [
       "array([[20, 38, 25],\n",
       "       [15, 25,  0],\n",
       "       [20, 31, 25],\n",
       "       ...,\n",
       "       [15, 20, 25],\n",
       "       [15,  0, 10],\n",
       "       [20, 23, 10]])"
      ]
     },
     "execution_count": 20,
     "metadata": {},
     "output_type": "execute_result"
    }
   ],
   "source": [
    "x"
   ]
  },
  {
   "cell_type": "code",
   "execution_count": 21,
   "id": "206b182a-8215-4ef8-8997-d71cfda8a871",
   "metadata": {},
   "outputs": [
    {
     "data": {
      "text/plain": [
       "numpy.ndarray"
      ]
     },
     "execution_count": 21,
     "metadata": {},
     "output_type": "execute_result"
    }
   ],
   "source": [
    "type(x)"
   ]
  },
  {
   "cell_type": "code",
   "execution_count": null,
   "id": "6bcdf61b-6039-4141-8ed6-6aa4c4e4a9b6",
   "metadata": {},
   "outputs": [],
   "source": []
  }
 ],
 "metadata": {
  "kernelspec": {
   "display_name": "Python 3 (ipykernel)",
   "language": "python",
   "name": "python3"
  },
  "language_info": {
   "codemirror_mode": {
    "name": "ipython",
    "version": 3
   },
   "file_extension": ".py",
   "mimetype": "text/x-python",
   "name": "python",
   "nbconvert_exporter": "python",
   "pygments_lexer": "ipython3",
   "version": "3.12.4"
  }
 },
 "nbformat": 4,
 "nbformat_minor": 5
}
